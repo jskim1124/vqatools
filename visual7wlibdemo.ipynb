{
 "cells": [
  {
   "cell_type": "code",
   "execution_count": 1,
   "metadata": {
    "collapsed": true
   },
   "outputs": [],
   "source": [
    "import random\n",
    "import os\n",
    "from PIL import Image\n",
    "import numpy as np\n",
    "import matplotlib.pyplot as plt\n",
    "%matplotlib inline\n",
    "from vqatools.visual7w import Visual7wPoint,Visual7wTell"
   ]
  },
  {
   "cell_type": "markdown",
   "metadata": {},
   "source": [
    "## Pointing task"
   ]
  },
  {
   "cell_type": "code",
   "execution_count": 10,
   "metadata": {},
   "outputs": [
    {
     "name": "stdout",
     "output_type": "stream",
     "text": [
      "=======  Visual7W-pointing 1.0  ======= \n"
     ]
    }
   ],
   "source": [
    "v7wpoint = Visual7wPoint('visual7w/dataset_v7w_pointing.json')\n",
    "v7wpoint.info()"
   ]
  },
  {
   "cell_type": "code",
   "execution_count": 4,
   "metadata": {},
   "outputs": [
    {
     "data": {
      "text/plain": [
       "{'box_id': 794494,\n",
       " 'height': 153,\n",
       " 'name': 'door',\n",
       " 'width': 128,\n",
       " 'x': 372,\n",
       " 'y': 66}"
      ]
     },
     "execution_count": 4,
     "metadata": {},
     "output_type": "execute_result"
    }
   ],
   "source": [
    "v7wpoint.boxidtobox[794494]"
   ]
  },
  {
   "cell_type": "code",
   "execution_count": 5,
   "metadata": {},
   "outputs": [
    {
     "name": "stdout",
     "output_type": "stream",
     "text": [
      "Multiple choices:  [794491, 794496, 794488]\n",
      "Img id:  2359297\n",
      "Which door is behind a person sitting on a bench?\n",
      "Ans:  794494\n"
     ]
    }
   ],
   "source": [
    "v7wpoint.showQA(265555)"
   ]
  },
  {
   "cell_type": "code",
   "execution_count": 8,
   "metadata": {},
   "outputs": [
    {
     "data": {
      "text/plain": [
       "{'box_id': 794494,\n",
       " 'height': 153,\n",
       " 'name': 'door',\n",
       " 'width': 128,\n",
       " 'x': 372,\n",
       " 'y': 66}"
      ]
     },
     "execution_count": 8,
     "metadata": {},
     "output_type": "execute_result"
    }
   ],
   "source": [
    "v7wpoint.boxidtobox[794494]"
   ]
  },
  {
   "cell_type": "code",
   "execution_count": 9,
   "metadata": {},
   "outputs": [
    {
     "data": {
      "text/plain": [
       "{'box_id': 794491,\n",
       " 'height': 57,\n",
       " 'name': 'shadow',\n",
       " 'width': 130,\n",
       " 'x': 193,\n",
       " 'y': 258}"
      ]
     },
     "execution_count": 9,
     "metadata": {},
     "output_type": "execute_result"
    }
   ],
   "source": [
    "v7wpoint.boxidtobox[794491]"
   ]
  },
  {
   "cell_type": "code",
   "execution_count": 6,
   "metadata": {},
   "outputs": [
    {
     "data": {
      "text/plain": [
       "{'answer': 794494,\n",
       " 'image_id': 2359297,\n",
       " 'multiple_choices': [794491, 794496, 794488],\n",
       " 'qa_id': 265555,\n",
       " 'question': 'Which door is behind a person sitting on a bench?',\n",
       " 'type': 'which'}"
      ]
     },
     "execution_count": 6,
     "metadata": {},
     "output_type": "execute_result"
    }
   ],
   "source": [
    "v7wpoint.qidtoqa[265555]"
   ]
  },
  {
   "cell_type": "markdown",
   "metadata": {},
   "source": [
    "## Telling task"
   ]
  },
  {
   "cell_type": "code",
   "execution_count": 11,
   "metadata": {},
   "outputs": [
    {
     "name": "stdout",
     "output_type": "stream",
     "text": [
      "=======  Visual7W-telling 1.1  ======= \n"
     ]
    }
   ],
   "source": [
    "v7wtell = Visual7wTell('visual7w/dataset_v7w_telling.json')\n",
    "v7wtell.info()"
   ]
  },
  {
   "cell_type": "code",
   "execution_count": 7,
   "metadata": {},
   "outputs": [
    {
     "name": "stdout",
     "output_type": "stream",
     "text": [
      "ther are 15534 count questions\n",
      "Img id:  2373666\n",
      "How many bears are there?\n",
      "Ans:  2.\n"
     ]
    }
   ],
   "source": [
    "# howques = getQuesIds(quesType='how')\n",
    "countques = v7wtell.getCountquesids()\n",
    "print (\"ther are %d count questions\" %(len(countques)))\n",
    "v7wtell.showQA(random.choice(countques))"
   ]
  }
 ],
 "metadata": {
  "kernelspec": {
   "display_name": "Python 3",
   "language": "python",
   "name": "python3"
  },
  "language_info": {
   "codemirror_mode": {
    "name": "ipython",
    "version": 3
   },
   "file_extension": ".py",
   "mimetype": "text/x-python",
   "name": "python",
   "nbconvert_exporter": "python",
   "pygments_lexer": "ipython3",
   "version": "3.6.1"
  }
 },
 "nbformat": 4,
 "nbformat_minor": 2
}
